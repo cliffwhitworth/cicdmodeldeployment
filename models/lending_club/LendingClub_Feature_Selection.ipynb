{
 "cells": [
  {
   "cell_type": "markdown",
   "metadata": {},
   "source": [
    "## Lending Club Feature Selection"
   ]
  },
  {
   "cell_type": "code",
   "execution_count": 1,
   "metadata": {},
   "outputs": [],
   "source": [
    "# import libraries \n",
    "import pandas as pd \n",
    "import numpy as np \n",
    "import matplotlib.pyplot as plt \n",
    "import seaborn as sns\n",
    "\n",
    "%matplotlib inline"
   ]
  },
  {
   "cell_type": "code",
   "execution_count": 2,
   "metadata": {},
   "outputs": [
    {
     "data": {
      "text/html": [
       "<div>\n",
       "<style scoped>\n",
       "    .dataframe tbody tr th:only-of-type {\n",
       "        vertical-align: middle;\n",
       "    }\n",
       "\n",
       "    .dataframe tbody tr th {\n",
       "        vertical-align: top;\n",
       "    }\n",
       "\n",
       "    .dataframe thead th {\n",
       "        text-align: right;\n",
       "    }\n",
       "</style>\n",
       "<table border=\"1\" class=\"dataframe\">\n",
       "  <thead>\n",
       "    <tr style=\"text-align: right;\">\n",
       "      <th></th>\n",
       "      <th>id</th>\n",
       "      <th>member_id</th>\n",
       "      <th>loan_amnt</th>\n",
       "      <th>funded_amnt</th>\n",
       "      <th>funded_amnt_inv</th>\n",
       "      <th>term</th>\n",
       "      <th>int_rate</th>\n",
       "      <th>installment</th>\n",
       "      <th>grade</th>\n",
       "      <th>sub_grade</th>\n",
       "      <th>...</th>\n",
       "      <th>num_tl_90g_dpd_24m</th>\n",
       "      <th>num_tl_op_past_12m</th>\n",
       "      <th>pct_tl_nvr_dlq</th>\n",
       "      <th>percent_bc_gt_75</th>\n",
       "      <th>pub_rec_bankruptcies</th>\n",
       "      <th>tax_liens</th>\n",
       "      <th>tot_hi_cred_lim</th>\n",
       "      <th>total_bal_ex_mort</th>\n",
       "      <th>total_bc_limit</th>\n",
       "      <th>total_il_high_credit_limit</th>\n",
       "    </tr>\n",
       "  </thead>\n",
       "  <tbody>\n",
       "    <tr>\n",
       "      <th>0</th>\n",
       "      <td>1077501</td>\n",
       "      <td>1296599.0</td>\n",
       "      <td>5000.0</td>\n",
       "      <td>5000.0</td>\n",
       "      <td>4975.0</td>\n",
       "      <td>36 months</td>\n",
       "      <td>10.65%</td>\n",
       "      <td>162.87</td>\n",
       "      <td>B</td>\n",
       "      <td>B2</td>\n",
       "      <td>...</td>\n",
       "      <td>NaN</td>\n",
       "      <td>NaN</td>\n",
       "      <td>NaN</td>\n",
       "      <td>NaN</td>\n",
       "      <td>0.0</td>\n",
       "      <td>0.0</td>\n",
       "      <td>NaN</td>\n",
       "      <td>NaN</td>\n",
       "      <td>NaN</td>\n",
       "      <td>NaN</td>\n",
       "    </tr>\n",
       "    <tr>\n",
       "      <th>1</th>\n",
       "      <td>1077430</td>\n",
       "      <td>1314167.0</td>\n",
       "      <td>2500.0</td>\n",
       "      <td>2500.0</td>\n",
       "      <td>2500.0</td>\n",
       "      <td>60 months</td>\n",
       "      <td>15.27%</td>\n",
       "      <td>59.83</td>\n",
       "      <td>C</td>\n",
       "      <td>C4</td>\n",
       "      <td>...</td>\n",
       "      <td>NaN</td>\n",
       "      <td>NaN</td>\n",
       "      <td>NaN</td>\n",
       "      <td>NaN</td>\n",
       "      <td>0.0</td>\n",
       "      <td>0.0</td>\n",
       "      <td>NaN</td>\n",
       "      <td>NaN</td>\n",
       "      <td>NaN</td>\n",
       "      <td>NaN</td>\n",
       "    </tr>\n",
       "    <tr>\n",
       "      <th>2</th>\n",
       "      <td>1077175</td>\n",
       "      <td>1313524.0</td>\n",
       "      <td>2400.0</td>\n",
       "      <td>2400.0</td>\n",
       "      <td>2400.0</td>\n",
       "      <td>36 months</td>\n",
       "      <td>15.96%</td>\n",
       "      <td>84.33</td>\n",
       "      <td>C</td>\n",
       "      <td>C5</td>\n",
       "      <td>...</td>\n",
       "      <td>NaN</td>\n",
       "      <td>NaN</td>\n",
       "      <td>NaN</td>\n",
       "      <td>NaN</td>\n",
       "      <td>0.0</td>\n",
       "      <td>0.0</td>\n",
       "      <td>NaN</td>\n",
       "      <td>NaN</td>\n",
       "      <td>NaN</td>\n",
       "      <td>NaN</td>\n",
       "    </tr>\n",
       "    <tr>\n",
       "      <th>3</th>\n",
       "      <td>1076863</td>\n",
       "      <td>1277178.0</td>\n",
       "      <td>10000.0</td>\n",
       "      <td>10000.0</td>\n",
       "      <td>10000.0</td>\n",
       "      <td>36 months</td>\n",
       "      <td>13.49%</td>\n",
       "      <td>339.31</td>\n",
       "      <td>C</td>\n",
       "      <td>C1</td>\n",
       "      <td>...</td>\n",
       "      <td>NaN</td>\n",
       "      <td>NaN</td>\n",
       "      <td>NaN</td>\n",
       "      <td>NaN</td>\n",
       "      <td>0.0</td>\n",
       "      <td>0.0</td>\n",
       "      <td>NaN</td>\n",
       "      <td>NaN</td>\n",
       "      <td>NaN</td>\n",
       "      <td>NaN</td>\n",
       "    </tr>\n",
       "    <tr>\n",
       "      <th>4</th>\n",
       "      <td>1075358</td>\n",
       "      <td>1311748.0</td>\n",
       "      <td>3000.0</td>\n",
       "      <td>3000.0</td>\n",
       "      <td>3000.0</td>\n",
       "      <td>60 months</td>\n",
       "      <td>12.69%</td>\n",
       "      <td>67.79</td>\n",
       "      <td>B</td>\n",
       "      <td>B5</td>\n",
       "      <td>...</td>\n",
       "      <td>NaN</td>\n",
       "      <td>NaN</td>\n",
       "      <td>NaN</td>\n",
       "      <td>NaN</td>\n",
       "      <td>0.0</td>\n",
       "      <td>0.0</td>\n",
       "      <td>NaN</td>\n",
       "      <td>NaN</td>\n",
       "      <td>NaN</td>\n",
       "      <td>NaN</td>\n",
       "    </tr>\n",
       "  </tbody>\n",
       "</table>\n",
       "<p>5 rows × 115 columns</p>\n",
       "</div>"
      ],
      "text/plain": [
       "        id  member_id  loan_amnt  funded_amnt  funded_amnt_inv        term  \\\n",
       "0  1077501  1296599.0     5000.0       5000.0           4975.0   36 months   \n",
       "1  1077430  1314167.0     2500.0       2500.0           2500.0   60 months   \n",
       "2  1077175  1313524.0     2400.0       2400.0           2400.0   36 months   \n",
       "3  1076863  1277178.0    10000.0      10000.0          10000.0   36 months   \n",
       "4  1075358  1311748.0     3000.0       3000.0           3000.0   60 months   \n",
       "\n",
       "  int_rate  installment grade sub_grade            ...              \\\n",
       "0   10.65%       162.87     B        B2            ...               \n",
       "1   15.27%        59.83     C        C4            ...               \n",
       "2   15.96%        84.33     C        C5            ...               \n",
       "3   13.49%       339.31     C        C1            ...               \n",
       "4   12.69%        67.79     B        B5            ...               \n",
       "\n",
       "  num_tl_90g_dpd_24m num_tl_op_past_12m pct_tl_nvr_dlq  percent_bc_gt_75  \\\n",
       "0                NaN                NaN            NaN               NaN   \n",
       "1                NaN                NaN            NaN               NaN   \n",
       "2                NaN                NaN            NaN               NaN   \n",
       "3                NaN                NaN            NaN               NaN   \n",
       "4                NaN                NaN            NaN               NaN   \n",
       "\n",
       "  pub_rec_bankruptcies tax_liens tot_hi_cred_lim total_bal_ex_mort  \\\n",
       "0                  0.0       0.0             NaN               NaN   \n",
       "1                  0.0       0.0             NaN               NaN   \n",
       "2                  0.0       0.0             NaN               NaN   \n",
       "3                  0.0       0.0             NaN               NaN   \n",
       "4                  0.0       0.0             NaN               NaN   \n",
       "\n",
       "  total_bc_limit total_il_high_credit_limit  \n",
       "0            NaN                        NaN  \n",
       "1            NaN                        NaN  \n",
       "2            NaN                        NaN  \n",
       "3            NaN                        NaN  \n",
       "4            NaN                        NaN  \n",
       "\n",
       "[5 rows x 115 columns]"
      ]
     },
     "execution_count": 2,
     "metadata": {},
     "output_type": "execute_result"
    }
   ],
   "source": [
    "# Get the data\n",
    "data = pd.read_csv('lending_club_loans.csv', skiprows=1, low_memory=False)\n",
    "data.head()"
   ]
  },
  {
   "cell_type": "markdown",
   "metadata": {},
   "source": [
    "### Delete Features with Null Values"
   ]
  },
  {
   "cell_type": "code",
   "execution_count": 3,
   "metadata": {},
   "outputs": [
    {
     "name": "stdout",
     "output_type": "stream",
     "text": [
      "Data shape: (42538, 115)\n",
      "Columns where all values are null: 54\n",
      "Columns with values: 61\n",
      "Columns with no null values: 1\n"
     ]
    }
   ],
   "source": [
    "# Find features where all values are null\n",
    "print('Data shape:', data.shape)\n",
    "print('Columns where all values are null:', len(data.columns[data.isnull().all()]))\n",
    "print('Columns with values:', len(data.columns) - len(data.columns[data.isnull().all()]))\n",
    "print('Columns with no null values:', len(data.columns[data.notnull().all()]))"
   ]
  },
  {
   "cell_type": "code",
   "execution_count": 4,
   "metadata": {},
   "outputs": [
    {
     "data": {
      "text/plain": [
       "Text(0.5,1,'Percentage of Null Values')"
      ]
     },
     "execution_count": 4,
     "metadata": {},
     "output_type": "execute_result"
    },
    {
     "data": {
      "image/png": "[encoded data removed]",
      "text/plain": [
       "<Figure size 432x432 with 1 Axes>"
      ]
     },
     "metadata": {},
     "output_type": "display_data"
    }
   ],
   "source": [
    "# Pie chart of null features\n",
    "values = [len(data.columns[data.isnull().all()]), \n",
    "          len(data.columns) - len(data.columns[data.isnull().all()])]\n",
    "colors = ['r', 'g']\n",
    "labels = ['Null Columns', 'Columns with Values']\n",
    "explode = (0.1, 0)\n",
    "fig = plt.figure(figsize=(6, 6))\n",
    "plt.pie(values, colors=colors, labels=labels,\n",
    "explode=explode, autopct='%1.1f%%',\n",
    "counterclock=True, shadow=False)\n",
    "plt.title('Percentage of Null Values', fontsize=24)"
   ]
  },
  {
   "cell_type": "code",
   "execution_count": 5,
   "metadata": {},
   "outputs": [
    {
     "data": {
      "image/png": "[encoded data removed]",
      "text/plain": [
       "<Figure size 864x1440 with 1 Axes>"
      ]
     },
     "metadata": {},
     "output_type": "display_data"
    }
   ],
   "source": [
    "# Bar chart of null features\n",
    "data.isnull().sum().sort_values().plot.barh(figsize=(12,20))\n",
    "plt.tight_layout()"
   ]
  },
  {
   "cell_type": "code",
   "execution_count": 6,
   "metadata": {},
   "outputs": [
    {
     "name": "stdout",
     "output_type": "stream",
     "text": [
      "(42538, 115)\n",
      "(42538, 61)\n"
     ]
    }
   ],
   "source": [
    "# Drop null features\n",
    "print(data.shape)\n",
    "dataset = data.dropna(how='all', axis='columns')\n",
    "print(dataset.shape)"
   ]
  },
  {
   "cell_type": "code",
   "execution_count": 7,
   "metadata": {},
   "outputs": [
    {
     "data": {
      "text/plain": [
       "id                                0\n",
       "member_id                         3\n",
       "loan_amnt                         3\n",
       "funded_amnt                       3\n",
       "funded_amnt_inv                   3\n",
       "term                              3\n",
       "int_rate                          3\n",
       "installment                       3\n",
       "grade                             3\n",
       "sub_grade                         3\n",
       "emp_title                      2629\n",
       "emp_length                     1115\n",
       "home_ownership                    3\n",
       "annual_inc                        7\n",
       "verification_status               3\n",
       "issue_d                           3\n",
       "loan_status                       3\n",
       "pymnt_plan                        3\n",
       "url                               3\n",
       "desc                          13296\n",
       "purpose                           3\n",
       "title                            16\n",
       "zip_code                          3\n",
       "addr_state                        3\n",
       "dti                               3\n",
       "delinq_2yrs                      32\n",
       "earliest_cr_line                 32\n",
       "fico_range_low                    3\n",
       "fico_range_high                   3\n",
       "inq_last_6mths                   32\n",
       "                              ...  \n",
       "mths_since_last_record        38887\n",
       "open_acc                         32\n",
       "pub_rec                          32\n",
       "revol_bal                         3\n",
       "revol_util                       93\n",
       "total_acc                        32\n",
       "initial_list_status               3\n",
       "out_prncp                         3\n",
       "out_prncp_inv                     3\n",
       "total_pymnt                       3\n",
       "total_pymnt_inv                   3\n",
       "total_rec_prncp                   3\n",
       "total_rec_int                     3\n",
       "total_rec_late_fee                3\n",
       "recoveries                        3\n",
       "collection_recovery_fee           3\n",
       "last_pymnt_d                     86\n",
       "last_pymnt_amnt                   3\n",
       "next_pymnt_d                  39242\n",
       "last_credit_pull_d                7\n",
       "last_fico_range_high              3\n",
       "last_fico_range_low               3\n",
       "collections_12_mths_ex_med      148\n",
       "policy_code                       3\n",
       "application_type                  3\n",
       "acc_now_delinq                   32\n",
       "chargeoff_within_12_mths        148\n",
       "delinq_amnt                      32\n",
       "pub_rec_bankruptcies           1368\n",
       "tax_liens                       108\n",
       "Length: 61, dtype: int64"
      ]
     },
     "execution_count": 7,
     "metadata": {},
     "output_type": "execute_result"
    }
   ],
   "source": [
    "# Show number of null values for each feature\n",
    "dataset.isnull().sum()"
   ]
  },
  {
   "cell_type": "code",
   "execution_count": 8,
   "metadata": {},
   "outputs": [
    {
     "name": "stdout",
     "output_type": "stream",
     "text": [
      "[39786 42536 42537]\n",
      "(42535, 61)\n"
     ]
    },
    {
     "name": "stderr",
     "output_type": "stream",
     "text": [
      "/opt/conda/lib/python3.6/site-packages/pandas/core/indexes/base.py:2095: FutureWarning: Using a non-tuple sequence for multidimensional indexing is deprecated; use `arr[tuple(seq)]` instead of `arr[seq]`. In the future this will be interpreted as an array index, `arr[np.array(seq)]`, which will result either in an error or a different result.\n",
      "  result = getitem(key)\n",
      "/opt/conda/lib/python3.6/site-packages/pandas/core/frame.py:3697: SettingWithCopyWarning: \n",
      "A value is trying to be set on a copy of a slice from a DataFrame\n",
      "\n",
      "See the caveats in the documentation: http://pandas.pydata.org/pandas-docs/stable/indexing.html#indexing-view-versus-copy\n",
      "  errors=errors)\n"
     ]
    },
    {
     "data": {
      "text/plain": [
       "id                                0\n",
       "member_id                         0\n",
       "loan_amnt                         0\n",
       "funded_amnt                       0\n",
       "funded_amnt_inv                   0\n",
       "term                              0\n",
       "int_rate                          0\n",
       "installment                       0\n",
       "grade                             0\n",
       "sub_grade                         0\n",
       "emp_title                      2626\n",
       "emp_length                     1112\n",
       "home_ownership                    0\n",
       "annual_inc                        4\n",
       "verification_status               0\n",
       "issue_d                           0\n",
       "loan_status                       0\n",
       "pymnt_plan                        0\n",
       "url                               0\n",
       "desc                          13293\n",
       "purpose                           0\n",
       "title                            13\n",
       "zip_code                          0\n",
       "addr_state                        0\n",
       "dti                               0\n",
       "delinq_2yrs                      29\n",
       "earliest_cr_line                 29\n",
       "fico_range_low                    0\n",
       "fico_range_high                   0\n",
       "inq_last_6mths                   29\n",
       "                              ...  \n",
       "mths_since_last_record        38884\n",
       "open_acc                         29\n",
       "pub_rec                          29\n",
       "revol_bal                         0\n",
       "revol_util                       90\n",
       "total_acc                        29\n",
       "initial_list_status               0\n",
       "out_prncp                         0\n",
       "out_prncp_inv                     0\n",
       "total_pymnt                       0\n",
       "total_pymnt_inv                   0\n",
       "total_rec_prncp                   0\n",
       "total_rec_int                     0\n",
       "total_rec_late_fee                0\n",
       "recoveries                        0\n",
       "collection_recovery_fee           0\n",
       "last_pymnt_d                     83\n",
       "last_pymnt_amnt                   0\n",
       "next_pymnt_d                  39239\n",
       "last_credit_pull_d                4\n",
       "last_fico_range_high              0\n",
       "last_fico_range_low               0\n",
       "collections_12_mths_ex_med      145\n",
       "policy_code                       0\n",
       "application_type                  0\n",
       "acc_now_delinq                   29\n",
       "chargeoff_within_12_mths        145\n",
       "delinq_amnt                      29\n",
       "pub_rec_bankruptcies           1365\n",
       "tax_liens                       105\n",
       "Length: 61, dtype: int64"
      ]
     },
     "execution_count": 8,
     "metadata": {},
     "output_type": "execute_result"
    }
   ],
   "source": [
    "# Delete rows where all values are null (except for id)\n",
    "rows_all_null = dataset[dataset.drop(['id'], axis=1).isnull().all(1)].index.values\n",
    "print(rows_all_null)\n",
    "dataset.drop(dataset.index[[rows_all_null]], inplace=True)\n",
    "print(dataset.shape)\n",
    "dataset.isnull().sum()"
   ]
  },
  {
   "cell_type": "markdown",
   "metadata": {},
   "source": [
    "### Remove Columns Due to Data Leakage\n",
    "\n",
    "Don't use columns that we won't have for predictions (data leakage). We don't want our model to be learning from features that will change in the future, or won't be available when the predictions are made. Data leakage can cause the model to overfit."
   ]
  },
  {
   "cell_type": "code",
   "execution_count": 9,
   "metadata": {},
   "outputs": [
    {
     "name": "stdout",
     "output_type": "stream",
     "text": [
      "(42535, 61)\n",
      "(42535, 41)\n"
     ]
    },
    {
     "name": "stderr",
     "output_type": "stream",
     "text": [
      "/opt/conda/lib/python3.6/site-packages/pandas/core/frame.py:3697: SettingWithCopyWarning: \n",
      "A value is trying to be set on a copy of a slice from a DataFrame\n",
      "\n",
      "See the caveats in the documentation: http://pandas.pydata.org/pandas-docs/stable/indexing.html#indexing-view-versus-copy\n",
      "  errors=errors)\n"
     ]
    }
   ],
   "source": [
    "# Track cols_dropped and columns_to_drop from here forward\n",
    "cols_dropped = []\n",
    "columns_to_drop = ['id','member_id','funded_amnt','funded_amnt_inv',\n",
    "            'int_rate','sub_grade','emp_title','issue_d','url','desc',\n",
    "            'zip_code','total_pymnt','total_pymnt_inv',\n",
    "             'total_rec_prncp','total_rec_int',\n",
    "             'total_rec_late_fee','recoveries',\n",
    "             'collection_recovery_fee','last_pymnt_d','last_pymnt_amnt']\n",
    "\n",
    "print(dataset.shape)\n",
    "dataset.drop(labels=columns_to_drop, axis=1, inplace=True)\n",
    "print(dataset.shape)"
   ]
  },
  {
   "cell_type": "markdown",
   "metadata": {},
   "source": [
    "### Engineer the Target"
   ]
  },
  {
   "cell_type": "code",
   "execution_count": 10,
   "metadata": {},
   "outputs": [
    {
     "data": {
      "text/plain": [
       "Fully Paid                                             33586\n",
       "Charged Off                                             5653\n",
       "Does not meet the credit policy. Status:Fully Paid      1988\n",
       "Does not meet the credit policy. Status:Charged Off      761\n",
       "Current                                                  513\n",
       "In Grace Period                                           16\n",
       "Late (31-120 days)                                        12\n",
       "Late (16-30 days)                                          5\n",
       "Default                                                    1\n",
       "Name: loan_status, dtype: int64"
      ]
     },
     "execution_count": 10,
     "metadata": {},
     "output_type": "execute_result"
    }
   ],
   "source": [
    "# Values in loan_status\n",
    "dataset['loan_status'].value_counts()"
   ]
  },
  {
   "cell_type": "code",
   "execution_count": 11,
   "metadata": {},
   "outputs": [
    {
     "name": "stderr",
     "output_type": "stream",
     "text": [
      "/opt/conda/lib/python3.6/site-packages/pandas/core/frame.py:3781: SettingWithCopyWarning: \n",
      "A value is trying to be set on a copy of a slice from a DataFrame\n",
      "\n",
      "See the caveats in the documentation: http://pandas.pydata.org/pandas-docs/stable/indexing.html#indexing-view-versus-copy\n",
      "  return super(DataFrame, self).rename(**kwargs)\n"
     ]
    },
    {
     "name": "stdout",
     "output_type": "stream",
     "text": [
      "dataset shape before mapping (42535, 41)\n",
      "dataset shape after mapping (39239, 41)\n",
      "rows deleted 3296\n"
     ]
    }
   ],
   "source": [
    "# Rename loan_status to target and show shapes before mapping\n",
    "dataset.rename(columns={'loan_status': 'target'}, inplace=True)\n",
    "print('dataset shape before mapping', dataset.shape)\n",
    "rows_start=dataset.shape[0]\n",
    "\n",
    "# Map the target. Fully Paid and Charged Off are best labels for predictions\n",
    "dataset = dataset[(dataset['target'] == 'Fully Paid') |\n",
    "                            (dataset['target'] == 'Charged Off')]\n",
    "\n",
    "mapping_dictionary = {'target':{ 'Fully Paid': 1, 'Charged Off': 0}}\n",
    "dataset = dataset.replace(mapping_dictionary)\n",
    "\n",
    "# Show shapes after mapping\n",
    "print('dataset shape after mapping', dataset.shape)\n",
    "print('rows deleted', rows_start - dataset.shape[0])"
   ]
  },
  {
   "cell_type": "markdown",
   "metadata": {},
   "source": [
    "### Engineer FICO Score"
   ]
  },
  {
   "cell_type": "code",
   "execution_count": 12,
   "metadata": {},
   "outputs": [
    {
     "name": "stdout",
     "output_type": "stream",
     "text": [
      "(39239, 42)\n",
      "(39239, 38)\n"
     ]
    },
    {
     "data": {
      "text/plain": [
       "0    737.0\n",
       "1    742.0\n",
       "2    737.0\n",
       "3    692.0\n",
       "5    732.0\n",
       "Name: fico_average, dtype: float64"
      ]
     },
     "execution_count": 12,
     "metadata": {},
     "output_type": "execute_result"
    }
   ],
   "source": [
    "# Create a fico_average feature and update the data dictionary preview\n",
    "dataset['fico_average'] = (dataset['fico_range_high'] + dataset['fico_range_low']) / 2\n",
    "print(dataset.shape)\n",
    "drop_cols = ['fico_range_low','fico_range_high','last_fico_range_low','last_fico_range_high']\n",
    "dataset.drop(drop_cols, axis=1, inplace=True)\n",
    "cols_dropped.extend(drop_cols)\n",
    "print(dataset.shape)\n",
    "dataset['fico_average'].head()"
   ]
  },
  {
   "cell_type": "markdown",
   "metadata": {},
   "source": [
    "### Review and Delete"
   ]
  },
  {
   "cell_type": "code",
   "execution_count": 13,
   "metadata": {},
   "outputs": [
    {
     "name": "stdout",
     "output_type": "stream",
     "text": [
      "Columns with no null values: 27\n",
      "Columns with null values: 11\n"
     ]
    }
   ],
   "source": [
    "# Show notnull() columns and column types\n",
    "print('Columns with no null values:', len(dataset.columns[dataset.notnull().all()]))\n",
    "print('Columns with null values:', len(dataset.columns[dataset.isnull().any()]))"
   ]
  },
  {
   "cell_type": "code",
   "execution_count": 14,
   "metadata": {},
   "outputs": [
    {
     "name": "stdout",
     "output_type": "stream",
     "text": [
      "                     loan_amnt count: 39239, float64\n",
      "                          term count: 39239, object\n",
      "                   installment count: 39239, float64\n",
      "                         grade count: 39239, object\n",
      "                home_ownership count: 39239, object\n",
      "                    annual_inc count: 39239, float64\n",
      "           verification_status count: 39239, object\n",
      "                        target count: 39239, int64\n",
      "                    pymnt_plan count: 39239, object\n",
      "                       purpose count: 39239, object\n",
      "                    addr_state count: 39239, object\n",
      "                           dti count: 39239, float64\n",
      "                   delinq_2yrs count: 39239, float64\n",
      "              earliest_cr_line count: 39239, object\n",
      "                inq_last_6mths count: 39239, float64\n",
      "                      open_acc count: 39239, float64\n",
      "                       pub_rec count: 39239, float64\n",
      "                     revol_bal count: 39239, float64\n",
      "                     total_acc count: 39239, float64\n",
      "           initial_list_status count: 39239, object\n",
      "                     out_prncp count: 39239, float64\n",
      "                 out_prncp_inv count: 39239, float64\n",
      "                   policy_code count: 39239, float64\n",
      "              application_type count: 39239, object\n",
      "                acc_now_delinq count: 39239, float64\n",
      "                   delinq_amnt count: 39239, float64\n",
      "                  fico_average count: 39239, float64\n",
      "float64    16\n",
      "object     10\n",
      "int64       1\n",
      "dtype: int64\n"
     ]
    }
   ],
   "source": [
    "# Show the count of notnull values\n",
    "nonulls = []\n",
    "for col in dataset.columns:\n",
    "    if dataset[col].notnull().sum() == dataset.shape[0]:\n",
    "        nonulls.append(col)\n",
    "        print('{: >30} count: {}, {}'.format(col, dataset[col].notnull().sum(), dataset[col].dtype,))\n",
    "        \n",
    "print(dataset[nonulls].dtypes.value_counts())"
   ]
  },
  {
   "cell_type": "code",
   "execution_count": 15,
   "metadata": {},
   "outputs": [
    {
     "data": {
      "text/html": [
       "<div>\n",
       "<style scoped>\n",
       "    .dataframe tbody tr th:only-of-type {\n",
       "        vertical-align: middle;\n",
       "    }\n",
       "\n",
       "    .dataframe tbody tr th {\n",
       "        vertical-align: top;\n",
       "    }\n",
       "\n",
       "    .dataframe thead th {\n",
       "        text-align: right;\n",
       "    }\n",
       "</style>\n",
       "<table border=\"1\" class=\"dataframe\">\n",
       "  <thead>\n",
       "    <tr style=\"text-align: right;\">\n",
       "      <th></th>\n",
       "      <th>Feature</th>\n",
       "      <th>null_count</th>\n",
       "      <th>type</th>\n",
       "    </tr>\n",
       "  </thead>\n",
       "  <tbody>\n",
       "    <tr>\n",
       "      <th>0</th>\n",
       "      <td>emp_length</td>\n",
       "      <td>1057</td>\n",
       "      <td>object</td>\n",
       "    </tr>\n",
       "    <tr>\n",
       "      <th>1</th>\n",
       "      <td>title</td>\n",
       "      <td>11</td>\n",
       "      <td>object</td>\n",
       "    </tr>\n",
       "    <tr>\n",
       "      <th>2</th>\n",
       "      <td>mths_since_last_delinq</td>\n",
       "      <td>25352</td>\n",
       "      <td>float64</td>\n",
       "    </tr>\n",
       "    <tr>\n",
       "      <th>3</th>\n",
       "      <td>mths_since_last_record</td>\n",
       "      <td>36466</td>\n",
       "      <td>float64</td>\n",
       "    </tr>\n",
       "    <tr>\n",
       "      <th>4</th>\n",
       "      <td>revol_util</td>\n",
       "      <td>50</td>\n",
       "      <td>object</td>\n",
       "    </tr>\n",
       "    <tr>\n",
       "      <th>5</th>\n",
       "      <td>next_pymnt_d</td>\n",
       "      <td>39239</td>\n",
       "      <td>object</td>\n",
       "    </tr>\n",
       "    <tr>\n",
       "      <th>6</th>\n",
       "      <td>last_credit_pull_d</td>\n",
       "      <td>2</td>\n",
       "      <td>object</td>\n",
       "    </tr>\n",
       "    <tr>\n",
       "      <th>7</th>\n",
       "      <td>collections_12_mths_ex_med</td>\n",
       "      <td>56</td>\n",
       "      <td>float64</td>\n",
       "    </tr>\n",
       "    <tr>\n",
       "      <th>8</th>\n",
       "      <td>chargeoff_within_12_mths</td>\n",
       "      <td>56</td>\n",
       "      <td>float64</td>\n",
       "    </tr>\n",
       "    <tr>\n",
       "      <th>9</th>\n",
       "      <td>pub_rec_bankruptcies</td>\n",
       "      <td>697</td>\n",
       "      <td>float64</td>\n",
       "    </tr>\n",
       "    <tr>\n",
       "      <th>10</th>\n",
       "      <td>tax_liens</td>\n",
       "      <td>39</td>\n",
       "      <td>float64</td>\n",
       "    </tr>\n",
       "  </tbody>\n",
       "</table>\n",
       "</div>"
      ],
      "text/plain": [
       "                       Feature null_count     type\n",
       "0                   emp_length       1057   object\n",
       "1                        title         11   object\n",
       "2       mths_since_last_delinq      25352  float64\n",
       "3       mths_since_last_record      36466  float64\n",
       "4                   revol_util         50   object\n",
       "5                 next_pymnt_d      39239   object\n",
       "6           last_credit_pull_d          2   object\n",
       "7   collections_12_mths_ex_med         56  float64\n",
       "8     chargeoff_within_12_mths         56  float64\n",
       "9         pub_rec_bankruptcies        697  float64\n",
       "10                   tax_liens         39  float64"
      ]
     },
     "execution_count": 15,
     "metadata": {},
     "output_type": "execute_result"
    }
   ],
   "source": [
    "# Show the count of 'with null' values\n",
    "original_nulls = pd.DataFrame(columns=['Feature','null_count','type'])\n",
    "withnulls = []\n",
    "for col in dataset.columns:\n",
    "    if dataset[col].isnull().sum() > 0:\n",
    "        withnulls.append(col)\n",
    "#         print('{: >30} count: {}, {}'.format(col, dataset[col].isnull().sum(), dataset[col].dtype,))\n",
    "        original_nulls = original_nulls.append({'Feature': col, 'null_count': dataset[col].isnull().sum(), 'type': dataset[col].dtype}, ignore_index=True)\n",
    "        \n",
    "# print(dataset[withnulls].dtypes.value_counts())\n",
    "original_nulls"
   ]
  },
  {
   "cell_type": "code",
   "execution_count": 16,
   "metadata": {},
   "outputs": [
    {
     "name": "stdout",
     "output_type": "stream",
     "text": [
      "                    emp_length 0.026937485664772293\n",
      "                         title 0.0002803333418282831\n",
      "        mths_since_last_delinq 0.6460918983664211\n",
      "        mths_since_last_record 0.9293305130100156\n",
      "                    revol_util 0.0012742424628558323\n",
      "                  next_pymnt_d 1.0\n",
      "            last_credit_pull_d 5.096969851423329e-05\n",
      "    collections_12_mths_ex_med 0.001427151558398532\n",
      "      chargeoff_within_12_mths 0.001427151558398532\n",
      "          pub_rec_bankruptcies 0.0177629399322103\n",
      "                     tax_liens 0.0009939091210275492\n"
     ]
    }
   ],
   "source": [
    "# Show the percentage of null values \n",
    "for col in dataset.columns:\n",
    "    if dataset[col].isnull().mean() > 0:\n",
    "        print('{: >30} {}'.format(col, dataset[col].isnull().mean()))"
   ]
  },
  {
   "cell_type": "code",
   "execution_count": 17,
   "metadata": {},
   "outputs": [
    {
     "name": "stdout",
     "output_type": "stream",
     "text": [
      "(39239, 35)\n"
     ]
    }
   ],
   "source": [
    "# Drop columns with missing values > 60\n",
    "columns_to_drop = ['mths_since_last_delinq','mths_since_last_record','next_pymnt_d']\n",
    "dataset.drop(labels=columns_to_drop, axis=1, inplace=True)\n",
    "cols_dropped.extend(columns_to_drop)\n",
    "print(dataset.shape)"
   ]
  },
  {
   "cell_type": "markdown",
   "metadata": {},
   "source": [
    "### Constant and Quasi-constant Values"
   ]
  },
  {
   "cell_type": "code",
   "execution_count": 18,
   "metadata": {},
   "outputs": [
    {
     "name": "stdout",
     "output_type": "stream",
     "text": [
      "7 constant features:\n",
      "Index(['initial_list_status', 'out_prncp', 'out_prncp_inv', 'policy_code',\n",
      "       'application_type', 'acc_now_delinq', 'delinq_amnt'],\n",
      "      dtype='object')\n"
     ]
    }
   ],
   "source": [
    "# Check for features that have only one value\n",
    "constant_features = [\n",
    "    feat for feat in dataset.columns if len(dataset[feat].unique()) == 1\n",
    "]\n",
    "\n",
    "print('{} constant features:'.format(len(constant_features)))\n",
    "print(dataset[constant_features].columns)"
   ]
  },
  {
   "cell_type": "code",
   "execution_count": 19,
   "metadata": {},
   "outputs": [
    {
     "name": "stdout",
     "output_type": "stream",
     "text": [
      "(39239, 35)\n",
      "(39239, 28)\n"
     ]
    }
   ],
   "source": [
    "# Drop the constant features\n",
    "print(dataset.shape)\n",
    "dataset.drop(labels=constant_features, axis=1, inplace=True)\n",
    "cols_dropped.extend(constant_features)\n",
    "print(dataset.shape)"
   ]
  },
  {
   "cell_type": "code",
   "execution_count": 20,
   "metadata": {},
   "outputs": [
    {
     "name": "stdout",
     "output_type": "stream",
     "text": [
      "length and # of constants with null values: 3 ['collections_12_mths_ex_med', 'chargeoff_within_12_mths', 'tax_liens']\n",
      "Constant and number of constants: 0.0, 39183; Isnull counts: 56\n",
      "Constant and number of constants: 0.0, 39183; Isnull counts: 56\n",
      "Constant and number of constants: 0.0, 39200; Isnull counts: 39\n",
      "(39239, 28)\n"
     ]
    }
   ],
   "source": [
    "# Check for features that have only zero values but have null values\n",
    "constant_features = [\n",
    "    feat for feat in dataset.columns if len(dataset[feat].fillna(0).unique()) == 1\n",
    "]\n",
    "\n",
    "print('length and # of constants with null values:', len(constant_features), constant_features)\n",
    "\n",
    "for feat in constant_features:\n",
    "    print('Constant and number of constants: {}, {}; Isnull counts: {}'.format(dataset[feat].unique()[0], \n",
    "                                                                        dataset[feat].value_counts()[0],\n",
    "                                                                        dataset[feat].isnull().sum()))\n",
    "    \n",
    "print(dataset.shape)"
   ]
  },
  {
   "cell_type": "code",
   "execution_count": 21,
   "metadata": {},
   "outputs": [
    {
     "name": "stdout",
     "output_type": "stream",
     "text": [
      "(39239, 28)\n",
      "(39239, 25)\n"
     ]
    }
   ],
   "source": [
    "# Drop features that contain zero and null values\n",
    "print(dataset.shape)\n",
    "dataset.drop(labels=constant_features, axis=1, inplace=True)\n",
    "cols_dropped.extend(constant_features)\n",
    "print(dataset.shape)"
   ]
  },
  {
   "cell_type": "code",
   "execution_count": 22,
   "metadata": {},
   "outputs": [
    {
     "name": "stdout",
     "output_type": "stream",
     "text": [
      "n    39238\n",
      "y        1\n",
      "Name: pymnt_plan, dtype: int64\n",
      "\n",
      "1    33586\n",
      "0     5653\n",
      "Name: target, dtype: int64\n",
      "\n",
      " 36 months    29096\n",
      " 60 months    10143\n",
      "Name: term, dtype: int64\n",
      "\n",
      "Not Verified       16845\n",
      "Verified           12526\n",
      "Source Verified     9868\n",
      "Name: verification_status, dtype: int64\n",
      "\n"
     ]
    }
   ],
   "source": [
    "# Check  for Quasi Constant Values, don't count null values\n",
    "for col in dataset.columns.sort_values():\n",
    "    if (len(dataset[col].unique()) < 4):\n",
    "        print(dataset[col].value_counts())\n",
    "        print()"
   ]
  },
  {
   "cell_type": "code",
   "execution_count": 23,
   "metadata": {},
   "outputs": [
    {
     "name": "stdout",
     "output_type": "stream",
     "text": [
      "(39239, 25)\n",
      "(39239, 24)\n"
     ]
    }
   ],
   "source": [
    "# Drop columns with constant / quasi constant values\n",
    "print(dataset.shape)\n",
    "columns_to_drop = ['pymnt_plan']\n",
    "dataset.drop(labels=columns_to_drop, axis=1, inplace=True)\n",
    "cols_dropped.extend(columns_to_drop)\n",
    "print(dataset.shape)"
   ]
  },
  {
   "cell_type": "code",
   "execution_count": 24,
   "metadata": {},
   "outputs": [
    {
     "name": "stdout",
     "output_type": "stream",
     "text": [
      "loop tracker 0\n",
      "loop tracker 10\n",
      "loop tracker 20\n",
      "Number of duplicated features 0\n"
     ]
    }
   ],
   "source": [
    "# For large datasets\n",
    "duplicated_feat = []\n",
    "for i in range(0, len(dataset.columns)):\n",
    "    if i % 10 == 0:  # Keep track of the loop\n",
    "        print('loop tracker', i)\n",
    "\n",
    "    col_1 = dataset.columns[i]\n",
    "\n",
    "    for col_2 in dataset.columns[i + 1:]:\n",
    "        if dataset[col_1].equals(dataset[col_2]):\n",
    "            duplicated_feat.append(col_2)\n",
    "            \n",
    "# Number of duplicated features\n",
    "print('Number of duplicated features', len(set(duplicated_feat)))"
   ]
  },
  {
   "cell_type": "code",
   "execution_count": 25,
   "metadata": {},
   "outputs": [
    {
     "name": "stdout",
     "output_type": "stream",
     "text": [
      "Columns dropped:\n",
      "['fico_range_low', 'fico_range_high', 'last_fico_range_low', 'last_fico_range_high', 'mths_since_last_delinq', 'mths_since_last_record', 'next_pymnt_d', 'initial_list_status', 'out_prncp', 'out_prncp_inv', 'policy_code', 'application_type', 'acc_now_delinq', 'delinq_amnt', 'collections_12_mths_ex_med', 'chargeoff_within_12_mths', 'tax_liens', 'pymnt_plan']\n",
      "\n",
      "Columns kept:\n",
      "['loan_amnt', 'term', 'installment', 'grade', 'emp_length', 'home_ownership', 'annual_inc', 'verification_status', 'purpose', 'title', 'addr_state', 'dti', 'delinq_2yrs', 'earliest_cr_line', 'inq_last_6mths', 'open_acc', 'pub_rec', 'revol_bal', 'revol_util', 'total_acc', 'last_credit_pull_d', 'pub_rec_bankruptcies', 'fico_average']\n"
     ]
    }
   ],
   "source": [
    "print('Columns dropped:')\n",
    "print(cols_dropped)\n",
    "print()\n",
    "print('Columns kept:')\n",
    "print(dataset.drop('target', axis=1).columns.values.tolist())"
   ]
  },
  {
   "cell_type": "code",
   "execution_count": 26,
   "metadata": {},
   "outputs": [
    {
     "name": "stdout",
     "output_type": "stream",
     "text": [
      "(39239, 24)\n",
      "numerical with na: ['pub_rec_bankruptcies']\n",
      "categorical with na: ['emp_length', 'title', 'revol_util', 'last_credit_pull_d']\n",
      "numerical without na: ['loan_amnt', 'installment', 'annual_inc', 'dti', 'delinq_2yrs', 'inq_last_6mths', 'open_acc', 'pub_rec', 'revol_bal', 'total_acc', 'fico_average']\n",
      "categorical without na: ['term', 'grade', 'home_ownership', 'verification_status', 'purpose', 'addr_state', 'earliest_cr_line']\n",
      "                 Feature null_count     type\n",
      "0              loan_amnt          0  float64\n",
      "1                   term          0   object\n",
      "2            installment          0  float64\n",
      "3                  grade          0   object\n",
      "4             emp_length       1057   object\n",
      "5         home_ownership          0   object\n",
      "6             annual_inc          0  float64\n",
      "7    verification_status          0   object\n",
      "8                 target          0    int64\n",
      "9                purpose          0   object\n",
      "10                 title         11   object\n",
      "11            addr_state          0   object\n",
      "12                   dti          0  float64\n",
      "13           delinq_2yrs          0  float64\n",
      "14      earliest_cr_line          0   object\n",
      "15        inq_last_6mths          0  float64\n",
      "16              open_acc          0  float64\n",
      "17               pub_rec          0  float64\n",
      "18             revol_bal          0  float64\n",
      "19            revol_util         50   object\n",
      "20             total_acc          0  float64\n",
      "21    last_credit_pull_d          2   object\n",
      "22  pub_rec_bankruptcies        697  float64\n",
      "23          fico_average          0  float64\n"
     ]
    }
   ],
   "source": [
    "# Review features kept\n",
    "features_kept = pd.DataFrame(columns=['Feature','null_count','type'])\n",
    "numerical_with_na = []\n",
    "categorical_with_na= []\n",
    "\n",
    "for col in dataset.columns:\n",
    "    features_kept = features_kept.append({'Feature': col, 'null_count': dataset[col].isnull().sum(), 'type': dataset[col].dtype}, ignore_index=True)\n",
    "    if dataset[col].isnull().sum() > 0 and dataset[col].dtype != 'object':\n",
    "        numerical_with_na.append(col)\n",
    "    if dataset[col].isnull().sum() > 0 and dataset[col].dtype == 'object':\n",
    "        categorical_with_na.append(col)\n",
    "       \n",
    "print(dataset.shape)\n",
    "print('numerical with na:', numerical_with_na)\n",
    "print('categorical with na:', categorical_with_na)\n",
    "print('numerical without na:', dataset.drop('target', axis=1)._get_numeric_data().drop(numerical_with_na, axis=1).columns.values.tolist())\n",
    "print('categorical without na:', dataset.select_dtypes(include='object').drop(categorical_with_na, axis=1).columns.values.tolist())\n",
    "print(features_kept)"
   ]
  },
  {
   "cell_type": "code",
   "execution_count": 27,
   "metadata": {},
   "outputs": [
    {
     "name": "stdout",
     "output_type": "stream",
     "text": [
      "(7848, 24)\n"
     ]
    },
    {
     "data": {
      "text/html": [
       "<div>\n",
       "<style scoped>\n",
       "    .dataframe tbody tr th:only-of-type {\n",
       "        vertical-align: middle;\n",
       "    }\n",
       "\n",
       "    .dataframe tbody tr th {\n",
       "        vertical-align: top;\n",
       "    }\n",
       "\n",
       "    .dataframe thead th {\n",
       "        text-align: right;\n",
       "    }\n",
       "</style>\n",
       "<table border=\"1\" class=\"dataframe\">\n",
       "  <thead>\n",
       "    <tr style=\"text-align: right;\">\n",
       "      <th></th>\n",
       "      <th>loan_amnt</th>\n",
       "      <th>term</th>\n",
       "      <th>installment</th>\n",
       "      <th>grade</th>\n",
       "      <th>emp_length</th>\n",
       "      <th>home_ownership</th>\n",
       "      <th>annual_inc</th>\n",
       "      <th>verification_status</th>\n",
       "      <th>target</th>\n",
       "      <th>purpose</th>\n",
       "      <th>...</th>\n",
       "      <th>earliest_cr_line</th>\n",
       "      <th>inq_last_6mths</th>\n",
       "      <th>open_acc</th>\n",
       "      <th>pub_rec</th>\n",
       "      <th>revol_bal</th>\n",
       "      <th>revol_util</th>\n",
       "      <th>total_acc</th>\n",
       "      <th>last_credit_pull_d</th>\n",
       "      <th>pub_rec_bankruptcies</th>\n",
       "      <th>fico_average</th>\n",
       "    </tr>\n",
       "  </thead>\n",
       "  <tbody>\n",
       "    <tr>\n",
       "      <th>0</th>\n",
       "      <td>4200.0</td>\n",
       "      <td>36 months</td>\n",
       "      <td>145.02</td>\n",
       "      <td>C</td>\n",
       "      <td>1 year</td>\n",
       "      <td>OWN</td>\n",
       "      <td>27996.0</td>\n",
       "      <td>Not Verified</td>\n",
       "      <td>1</td>\n",
       "      <td>debt_consolidation</td>\n",
       "      <td>...</td>\n",
       "      <td>May-1987</td>\n",
       "      <td>0.0</td>\n",
       "      <td>13.0</td>\n",
       "      <td>0.0</td>\n",
       "      <td>6209.0</td>\n",
       "      <td>62.5%</td>\n",
       "      <td>26.0</td>\n",
       "      <td>Mar-2011</td>\n",
       "      <td>0.0</td>\n",
       "      <td>662.0</td>\n",
       "    </tr>\n",
       "    <tr>\n",
       "      <th>1</th>\n",
       "      <td>10000.0</td>\n",
       "      <td>36 months</td>\n",
       "      <td>342.29</td>\n",
       "      <td>D</td>\n",
       "      <td>7 years</td>\n",
       "      <td>RENT</td>\n",
       "      <td>67000.0</td>\n",
       "      <td>Verified</td>\n",
       "      <td>1</td>\n",
       "      <td>debt_consolidation</td>\n",
       "      <td>...</td>\n",
       "      <td>Nov-1994</td>\n",
       "      <td>1.0</td>\n",
       "      <td>6.0</td>\n",
       "      <td>0.0</td>\n",
       "      <td>9583.0</td>\n",
       "      <td>77.3%</td>\n",
       "      <td>12.0</td>\n",
       "      <td>Feb-2013</td>\n",
       "      <td>0.0</td>\n",
       "      <td>682.0</td>\n",
       "    </tr>\n",
       "    <tr>\n",
       "      <th>2</th>\n",
       "      <td>6000.0</td>\n",
       "      <td>36 months</td>\n",
       "      <td>203.59</td>\n",
       "      <td>C</td>\n",
       "      <td>1 year</td>\n",
       "      <td>MORTGAGE</td>\n",
       "      <td>48000.0</td>\n",
       "      <td>Source Verified</td>\n",
       "      <td>1</td>\n",
       "      <td>major_purchase</td>\n",
       "      <td>...</td>\n",
       "      <td>Dec-1998</td>\n",
       "      <td>0.0</td>\n",
       "      <td>15.0</td>\n",
       "      <td>0.0</td>\n",
       "      <td>13612.0</td>\n",
       "      <td>89.5%</td>\n",
       "      <td>41.0</td>\n",
       "      <td>Sep-2016</td>\n",
       "      <td>0.0</td>\n",
       "      <td>672.0</td>\n",
       "    </tr>\n",
       "    <tr>\n",
       "      <th>3</th>\n",
       "      <td>10000.0</td>\n",
       "      <td>36 months</td>\n",
       "      <td>328.06</td>\n",
       "      <td>B</td>\n",
       "      <td>2 years</td>\n",
       "      <td>RENT</td>\n",
       "      <td>41004.0</td>\n",
       "      <td>Verified</td>\n",
       "      <td>1</td>\n",
       "      <td>home_improvement</td>\n",
       "      <td>...</td>\n",
       "      <td>Aug-2001</td>\n",
       "      <td>2.0</td>\n",
       "      <td>11.0</td>\n",
       "      <td>0.0</td>\n",
       "      <td>9042.0</td>\n",
       "      <td>16.2%</td>\n",
       "      <td>17.0</td>\n",
       "      <td>Nov-2011</td>\n",
       "      <td>0.0</td>\n",
       "      <td>722.0</td>\n",
       "    </tr>\n",
       "    <tr>\n",
       "      <th>4</th>\n",
       "      <td>15600.0</td>\n",
       "      <td>60 months</td>\n",
       "      <td>379.04</td>\n",
       "      <td>C</td>\n",
       "      <td>&lt; 1 year</td>\n",
       "      <td>RENT</td>\n",
       "      <td>43000.0</td>\n",
       "      <td>Not Verified</td>\n",
       "      <td>1</td>\n",
       "      <td>debt_consolidation</td>\n",
       "      <td>...</td>\n",
       "      <td>Jun-2004</td>\n",
       "      <td>2.0</td>\n",
       "      <td>5.0</td>\n",
       "      <td>0.0</td>\n",
       "      <td>8803.0</td>\n",
       "      <td>64.3%</td>\n",
       "      <td>7.0</td>\n",
       "      <td>Aug-2015</td>\n",
       "      <td>0.0</td>\n",
       "      <td>712.0</td>\n",
       "    </tr>\n",
       "  </tbody>\n",
       "</table>\n",
       "<p>5 rows × 24 columns</p>\n",
       "</div>"
      ],
      "text/plain": [
       "   loan_amnt        term  installment grade emp_length home_ownership  \\\n",
       "0     4200.0   36 months       145.02     C     1 year            OWN   \n",
       "1    10000.0   36 months       342.29     D    7 years           RENT   \n",
       "2     6000.0   36 months       203.59     C     1 year       MORTGAGE   \n",
       "3    10000.0   36 months       328.06     B    2 years           RENT   \n",
       "4    15600.0   60 months       379.04     C   < 1 year           RENT   \n",
       "\n",
       "   annual_inc verification_status  target             purpose     ...       \\\n",
       "0     27996.0        Not Verified       1  debt_consolidation     ...        \n",
       "1     67000.0            Verified       1  debt_consolidation     ...        \n",
       "2     48000.0     Source Verified       1      major_purchase     ...        \n",
       "3     41004.0            Verified       1    home_improvement     ...        \n",
       "4     43000.0        Not Verified       1  debt_consolidation     ...        \n",
       "\n",
       "  earliest_cr_line inq_last_6mths  open_acc  pub_rec revol_bal  revol_util  \\\n",
       "0         May-1987            0.0      13.0      0.0    6209.0       62.5%   \n",
       "1         Nov-1994            1.0       6.0      0.0    9583.0       77.3%   \n",
       "2         Dec-1998            0.0      15.0      0.0   13612.0       89.5%   \n",
       "3         Aug-2001            2.0      11.0      0.0    9042.0       16.2%   \n",
       "4         Jun-2004            2.0       5.0      0.0    8803.0       64.3%   \n",
       "\n",
       "   total_acc  last_credit_pull_d  pub_rec_bankruptcies fico_average  \n",
       "0       26.0            Mar-2011                   0.0        662.0  \n",
       "1       12.0            Feb-2013                   0.0        682.0  \n",
       "2       41.0            Sep-2016                   0.0        672.0  \n",
       "3       17.0            Nov-2011                   0.0        722.0  \n",
       "4        7.0            Aug-2015                   0.0        712.0  \n",
       "\n",
       "[5 rows x 24 columns]"
      ]
     },
     "execution_count": 27,
     "metadata": {},
     "output_type": "execute_result"
    }
   ],
   "source": [
    "# divide train and test\n",
    "from sklearn.model_selection import train_test_split\n",
    "\n",
    "X = dataset.drop('target', axis=1)\n",
    "y = dataset.target\n",
    "X_train, X_test, y_train, y_test = train_test_split(X, y, test_size=0.2, random_state=0)  # set the seed\n",
    "train = pd.DataFrame(data=X_train, columns=dataset.columns)\n",
    "train['target'] = y_train\n",
    "test = pd.DataFrame(data=X_test, columns=dataset.columns)\n",
    "test['target'] = y_test\n",
    "\n",
    "# export features kept as lending_club_selected_features.csv\n",
    "train.to_csv (r'lending_club_selected_features_train.csv', index = None, header=True)\n",
    "test.to_csv (r'lending_club_selected_features_test.csv', index = None, header=True)\n",
    "# r takes care of symbols within the path name such as the backslash symbol\n",
    "\n",
    "# did it work?\n",
    "# Get the data\n",
    "features = pd.read_csv('lending_club_selected_features_test.csv')\n",
    "print(features.shape)\n",
    "features.head()"
   ]
  },
  {
   "cell_type": "code",
   "execution_count": 28,
   "metadata": {},
   "outputs": [
    {
     "data": {
      "text/html": [
       "<div>\n",
       "<style scoped>\n",
       "    .dataframe tbody tr th:only-of-type {\n",
       "        vertical-align: middle;\n",
       "    }\n",
       "\n",
       "    .dataframe tbody tr th {\n",
       "        vertical-align: top;\n",
       "    }\n",
       "\n",
       "    .dataframe thead th {\n",
       "        text-align: right;\n",
       "    }\n",
       "</style>\n",
       "<table border=\"1\" class=\"dataframe\">\n",
       "  <thead>\n",
       "    <tr style=\"text-align: right;\">\n",
       "      <th></th>\n",
       "      <th>loan_amnt</th>\n",
       "      <th>installment</th>\n",
       "      <th>annual_inc</th>\n",
       "      <th>target</th>\n",
       "      <th>dti</th>\n",
       "      <th>delinq_2yrs</th>\n",
       "      <th>inq_last_6mths</th>\n",
       "      <th>open_acc</th>\n",
       "      <th>pub_rec</th>\n",
       "      <th>revol_bal</th>\n",
       "      <th>total_acc</th>\n",
       "      <th>pub_rec_bankruptcies</th>\n",
       "      <th>fico_average</th>\n",
       "    </tr>\n",
       "  </thead>\n",
       "  <tbody>\n",
       "    <tr>\n",
       "      <th>count</th>\n",
       "      <td>7848.000000</td>\n",
       "      <td>7848.000000</td>\n",
       "      <td>7.848000e+03</td>\n",
       "      <td>7848.000000</td>\n",
       "      <td>7848.000000</td>\n",
       "      <td>7848.000000</td>\n",
       "      <td>7848.000000</td>\n",
       "      <td>7848.000000</td>\n",
       "      <td>7848.000000</td>\n",
       "      <td>7848.000000</td>\n",
       "      <td>7848.000000</td>\n",
       "      <td>7709.000000</td>\n",
       "      <td>7848.000000</td>\n",
       "    </tr>\n",
       "    <tr>\n",
       "      <th>mean</th>\n",
       "      <td>11105.010831</td>\n",
       "      <td>322.272492</td>\n",
       "      <td>6.949439e+04</td>\n",
       "      <td>0.854230</td>\n",
       "      <td>13.320368</td>\n",
       "      <td>0.140800</td>\n",
       "      <td>0.868247</td>\n",
       "      <td>9.329511</td>\n",
       "      <td>0.056193</td>\n",
       "      <td>13401.380989</td>\n",
       "      <td>22.074541</td>\n",
       "      <td>0.044234</td>\n",
       "      <td>716.643858</td>\n",
       "    </tr>\n",
       "    <tr>\n",
       "      <th>std</th>\n",
       "      <td>7323.295420</td>\n",
       "      <td>206.608076</td>\n",
       "      <td>6.979322e+04</td>\n",
       "      <td>0.352898</td>\n",
       "      <td>6.650085</td>\n",
       "      <td>0.468916</td>\n",
       "      <td>1.066644</td>\n",
       "      <td>4.361075</td>\n",
       "      <td>0.236855</td>\n",
       "      <td>16046.555084</td>\n",
       "      <td>11.378165</td>\n",
       "      <td>0.206886</td>\n",
       "      <td>35.830601</td>\n",
       "    </tr>\n",
       "    <tr>\n",
       "      <th>min</th>\n",
       "      <td>1000.000000</td>\n",
       "      <td>20.220000</td>\n",
       "      <td>4.000000e+03</td>\n",
       "      <td>0.000000</td>\n",
       "      <td>0.000000</td>\n",
       "      <td>0.000000</td>\n",
       "      <td>0.000000</td>\n",
       "      <td>2.000000</td>\n",
       "      <td>0.000000</td>\n",
       "      <td>0.000000</td>\n",
       "      <td>3.000000</td>\n",
       "      <td>0.000000</td>\n",
       "      <td>627.000000</td>\n",
       "    </tr>\n",
       "    <tr>\n",
       "      <th>25%</th>\n",
       "      <td>5500.000000</td>\n",
       "      <td>166.790000</td>\n",
       "      <td>4.000000e+04</td>\n",
       "      <td>1.000000</td>\n",
       "      <td>8.197500</td>\n",
       "      <td>0.000000</td>\n",
       "      <td>0.000000</td>\n",
       "      <td>6.000000</td>\n",
       "      <td>0.000000</td>\n",
       "      <td>3688.000000</td>\n",
       "      <td>13.000000</td>\n",
       "      <td>0.000000</td>\n",
       "      <td>687.000000</td>\n",
       "    </tr>\n",
       "    <tr>\n",
       "      <th>50%</th>\n",
       "      <td>9600.000000</td>\n",
       "      <td>278.455000</td>\n",
       "      <td>5.880000e+04</td>\n",
       "      <td>1.000000</td>\n",
       "      <td>13.430000</td>\n",
       "      <td>0.000000</td>\n",
       "      <td>1.000000</td>\n",
       "      <td>9.000000</td>\n",
       "      <td>0.000000</td>\n",
       "      <td>8791.500000</td>\n",
       "      <td>20.000000</td>\n",
       "      <td>0.000000</td>\n",
       "      <td>712.000000</td>\n",
       "    </tr>\n",
       "    <tr>\n",
       "      <th>75%</th>\n",
       "      <td>15000.000000</td>\n",
       "      <td>421.592500</td>\n",
       "      <td>8.300000e+04</td>\n",
       "      <td>1.000000</td>\n",
       "      <td>18.600000</td>\n",
       "      <td>0.000000</td>\n",
       "      <td>1.000000</td>\n",
       "      <td>12.000000</td>\n",
       "      <td>0.000000</td>\n",
       "      <td>16989.500000</td>\n",
       "      <td>29.000000</td>\n",
       "      <td>0.000000</td>\n",
       "      <td>742.000000</td>\n",
       "    </tr>\n",
       "    <tr>\n",
       "      <th>max</th>\n",
       "      <td>35000.000000</td>\n",
       "      <td>1288.100000</td>\n",
       "      <td>3.900000e+06</td>\n",
       "      <td>1.000000</td>\n",
       "      <td>29.950000</td>\n",
       "      <td>7.000000</td>\n",
       "      <td>8.000000</td>\n",
       "      <td>36.000000</td>\n",
       "      <td>3.000000</td>\n",
       "      <td>144723.000000</td>\n",
       "      <td>78.000000</td>\n",
       "      <td>2.000000</td>\n",
       "      <td>822.000000</td>\n",
       "    </tr>\n",
       "  </tbody>\n",
       "</table>\n",
       "</div>"
      ],
      "text/plain": [
       "          loan_amnt  installment    annual_inc       target          dti  \\\n",
       "count   7848.000000  7848.000000  7.848000e+03  7848.000000  7848.000000   \n",
       "mean   11105.010831   322.272492  6.949439e+04     0.854230    13.320368   \n",
       "std     7323.295420   206.608076  6.979322e+04     0.352898     6.650085   \n",
       "min     1000.000000    20.220000  4.000000e+03     0.000000     0.000000   \n",
       "25%     5500.000000   166.790000  4.000000e+04     1.000000     8.197500   \n",
       "50%     9600.000000   278.455000  5.880000e+04     1.000000    13.430000   \n",
       "75%    15000.000000   421.592500  8.300000e+04     1.000000    18.600000   \n",
       "max    35000.000000  1288.100000  3.900000e+06     1.000000    29.950000   \n",
       "\n",
       "       delinq_2yrs  inq_last_6mths     open_acc      pub_rec      revol_bal  \\\n",
       "count  7848.000000     7848.000000  7848.000000  7848.000000    7848.000000   \n",
       "mean      0.140800        0.868247     9.329511     0.056193   13401.380989   \n",
       "std       0.468916        1.066644     4.361075     0.236855   16046.555084   \n",
       "min       0.000000        0.000000     2.000000     0.000000       0.000000   \n",
       "25%       0.000000        0.000000     6.000000     0.000000    3688.000000   \n",
       "50%       0.000000        1.000000     9.000000     0.000000    8791.500000   \n",
       "75%       0.000000        1.000000    12.000000     0.000000   16989.500000   \n",
       "max       7.000000        8.000000    36.000000     3.000000  144723.000000   \n",
       "\n",
       "         total_acc  pub_rec_bankruptcies  fico_average  \n",
       "count  7848.000000           7709.000000   7848.000000  \n",
       "mean     22.074541              0.044234    716.643858  \n",
       "std      11.378165              0.206886     35.830601  \n",
       "min       3.000000              0.000000    627.000000  \n",
       "25%      13.000000              0.000000    687.000000  \n",
       "50%      20.000000              0.000000    712.000000  \n",
       "75%      29.000000              0.000000    742.000000  \n",
       "max      78.000000              2.000000    822.000000  "
      ]
     },
     "execution_count": 28,
     "metadata": {},
     "output_type": "execute_result"
    }
   ],
   "source": [
    "features._get_numeric_data().describe()"
   ]
  },
  {
   "cell_type": "code",
   "execution_count": 29,
   "metadata": {},
   "outputs": [],
   "source": [
    "# Consider sklearn.feature_selection, ROC AUC scores, etc. for further feature selection\n",
    "# https://scikit-learn.org/stable/modules/feature_selection.html"
   ]
  }
 ],
 "metadata": {
  "kernelspec": {
   "display_name": "Python 3",
   "language": "python",
   "name": "python3"
  },
  "language_info": {
   "codemirror_mode": {
    "name": "ipython",
    "version": 3
   },
   "file_extension": ".py",
   "mimetype": "text/x-python",
   "name": "python",
   "nbconvert_exporter": "python",
   "pygments_lexer": "ipython3",
   "version": "3.6.3"
  }
 },
 "nbformat": 4,
 "nbformat_minor": 2
}
